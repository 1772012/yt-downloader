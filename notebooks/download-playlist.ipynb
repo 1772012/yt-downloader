{
 "cells": [
  {
   "cell_type": "markdown",
   "metadata": {},
   "source": [
    "### Import all dependencies"
   ]
  },
  {
   "cell_type": "code",
   "execution_count": 8,
   "metadata": {},
   "outputs": [],
   "source": [
    "from pytube import YouTube, Playlist\n",
    "import os\n",
    "import moviepy.editor as mp"
   ]
  },
  {
   "cell_type": "markdown",
   "metadata": {},
   "source": [
    "### Define functions"
   ]
  },
  {
   "cell_type": "code",
   "execution_count": 9,
   "metadata": {},
   "outputs": [],
   "source": [
    "def download_audio_from_playlist(playlist_url, output_dir):\n",
    "    playlist = Playlist(playlist_url)\n",
    "\n",
    "    for url in playlist.video_urls:\n",
    "        yt = YouTube(url)\n",
    "        audio = yt.streams.filter(only_audio=True).first()\n",
    "        print(f\"Downloading audio: {yt.title}\")\n",
    "        audio.download(output_path=output_dir, filename=\"temp_audio\")\n",
    "        \n",
    "        clip = mp.AudioFileClip(output_dir + \"/temp_audio\")\n",
    "        clip.write_audiofile(output_dir + \"/\" + yt.title + \".mp3\")\n",
    "\n",
    "        os.remove(output_dir + \"/temp_audio\")\n",
    "        \n",
    "    print(\"All Downloads successfully.\")"
   ]
  },
  {
   "cell_type": "markdown",
   "metadata": {},
   "source": [
    "### Set parameters"
   ]
  },
  {
   "cell_type": "code",
   "execution_count": 10,
   "metadata": {},
   "outputs": [],
   "source": [
    "# Playlist URL\n",
    "playlist_url = \"https://www.youtube.com/watch?v=IcrbM1l_BoI&list=PLMEZyDHJojxOmt1NAmS2gjy9k5-gN5Lc5\"\n",
    "\n",
    "## Output folder\n",
    "output_dir = \"../audios\""
   ]
  },
  {
   "cell_type": "markdown",
   "metadata": {},
   "source": [
    "### Downloading audios"
   ]
  },
  {
   "cell_type": "code",
   "execution_count": 11,
   "metadata": {},
   "outputs": [
    {
     "name": "stdout",
     "output_type": "stream",
     "text": [
      "Downloading audio: Wake Me Up (Official Video)\n",
      "MoviePy - Writing audio in ../audios/Wake Me Up (Official Video).mp3\n"
     ]
    },
    {
     "name": "stderr",
     "output_type": "stream",
     "text": [
      "                                                                      \r"
     ]
    },
    {
     "name": "stdout",
     "output_type": "stream",
     "text": [
      "MoviePy - Done.\n",
      "Downloading audio: Waiting For Love [blank]\n",
      "MoviePy - Writing audio in ../audios/Waiting For Love [blank].mp3\n"
     ]
    },
    {
     "name": "stderr",
     "output_type": "stream",
     "text": [
      "                                                                      \r"
     ]
    },
    {
     "name": "stdout",
     "output_type": "stream",
     "text": [
      "MoviePy - Done.\n",
      "Downloading audio: I Could Be The One (Nicktim)\n",
      "MoviePy - Writing audio in ../audios/I Could Be The One (Nicktim).mp3\n"
     ]
    },
    {
     "name": "stderr",
     "output_type": "stream",
     "text": [
      "                                                                      \r"
     ]
    },
    {
     "name": "stdout",
     "output_type": "stream",
     "text": [
      "MoviePy - Done.\n",
      "Downloading audio: You Make Me (Official)\n",
      "MoviePy - Writing audio in ../audios/You Make Me (Official).mp3\n"
     ]
    },
    {
     "name": "stderr",
     "output_type": "stream",
     "text": [
      "                                                                      \r"
     ]
    },
    {
     "name": "stdout",
     "output_type": "stream",
     "text": [
      "MoviePy - Done.\n",
      "Downloading audio: Levels\n",
      "MoviePy - Writing audio in ../audios/Levels.mp3\n"
     ]
    },
    {
     "name": "stderr",
     "output_type": "stream",
     "text": [
      "                                                                      \r"
     ]
    },
    {
     "name": "stdout",
     "output_type": "stream",
     "text": [
      "MoviePy - Done.\n",
      "Downloading audio: Radio Golcak - The Best Playlists on YouTube\n",
      "MoviePy - Writing audio in ../audios/Radio Golcak - The Best Playlists on YouTube.mp3\n"
     ]
    },
    {
     "name": "stderr",
     "output_type": "stream",
     "text": [
      "                                                                    \r"
     ]
    },
    {
     "name": "stdout",
     "output_type": "stream",
     "text": [
      "MoviePy - Done.\n",
      "Downloading audio: Hey Brother\n",
      "MoviePy - Writing audio in ../audios/Hey Brother.mp3\n"
     ]
    },
    {
     "name": "stderr",
     "output_type": "stream",
     "text": [
      "                                                                      \r"
     ]
    },
    {
     "name": "stdout",
     "output_type": "stream",
     "text": [
      "MoviePy - Done.\n",
      "Downloading audio: The Nights\n",
      "MoviePy - Writing audio in ../audios/The Nights.mp3\n"
     ]
    },
    {
     "name": "stderr",
     "output_type": "stream",
     "text": [
      "                                                                      \r"
     ]
    },
    {
     "name": "stdout",
     "output_type": "stream",
     "text": [
      "MoviePy - Done.\n",
      "Downloading audio: Addicted To You\n",
      "MoviePy - Writing audio in ../audios/Addicted To You.mp3\n"
     ]
    },
    {
     "name": "stderr",
     "output_type": "stream",
     "text": [
      "                                                                      \r"
     ]
    },
    {
     "name": "stdout",
     "output_type": "stream",
     "text": [
      "MoviePy - Done.\n",
      "Downloading audio: Broken Arrows\n",
      "MoviePy - Writing audio in ../audios/Broken Arrows.mp3\n"
     ]
    },
    {
     "name": "stderr",
     "output_type": "stream",
     "text": [
      "                                                                      \r"
     ]
    },
    {
     "name": "stdout",
     "output_type": "stream",
     "text": [
      "MoviePy - Done.\n",
      "Downloading audio: The Days\n",
      "MoviePy - Writing audio in ../audios/The Days.mp3\n"
     ]
    },
    {
     "name": "stderr",
     "output_type": "stream",
     "text": [
      "                                                                      \r"
     ]
    },
    {
     "name": "stdout",
     "output_type": "stream",
     "text": [
      "MoviePy - Done.\n",
      "Downloading audio: For A Better Day\n",
      "MoviePy - Writing audio in ../audios/For A Better Day.mp3\n"
     ]
    },
    {
     "name": "stderr",
     "output_type": "stream",
     "text": [
      "                                                                      \r"
     ]
    },
    {
     "name": "stdout",
     "output_type": "stream",
     "text": [
      "MoviePy - Done.\n",
      "Downloading audio: Taste The Feeling (Avicii Vs. Conrad Sewell)\n",
      "MoviePy - Writing audio in ../audios/Taste The Feeling (Avicii Vs. Conrad Sewell).mp3\n"
     ]
    },
    {
     "name": "stderr",
     "output_type": "stream",
     "text": [
      "                                                                      \r"
     ]
    },
    {
     "name": "stdout",
     "output_type": "stream",
     "text": [
      "MoviePy - Done.\n",
      "Downloading audio: Gonna Love Ya\n",
      "MoviePy - Writing audio in ../audios/Gonna Love Ya.mp3\n"
     ]
    },
    {
     "name": "stderr",
     "output_type": "stream",
     "text": [
      "                                                                      \r"
     ]
    },
    {
     "name": "stdout",
     "output_type": "stream",
     "text": [
      "MoviePy - Done.\n",
      "Downloading audio: Pure Grinding\n",
      "MoviePy - Writing audio in ../audios/Pure Grinding.mp3\n"
     ]
    },
    {
     "name": "stderr",
     "output_type": "stream",
     "text": [
      "                                                                      \r"
     ]
    },
    {
     "name": "stdout",
     "output_type": "stream",
     "text": [
      "MoviePy - Done.\n",
      "Downloading audio: avicci-dear boy\n",
      "MoviePy - Writing audio in ../audios/avicci-dear boy.mp3\n"
     ]
    },
    {
     "name": "stderr",
     "output_type": "stream",
     "text": [
      "                                                                      \r"
     ]
    },
    {
     "name": "stdout",
     "output_type": "stream",
     "text": [
      "MoviePy - Done.\n",
      "Downloading audio: Silhouettes Video\n",
      "MoviePy - Writing audio in ../audios/Silhouettes Video.mp3\n"
     ]
    },
    {
     "name": "stderr",
     "output_type": "stream",
     "text": [
      "                                                                      \r"
     ]
    },
    {
     "name": "stdout",
     "output_type": "stream",
     "text": [
      "MoviePy - Done.\n",
      "Downloading audio: Lay Me Down\n",
      "MoviePy - Writing audio in ../audios/Lay Me Down.mp3\n"
     ]
    },
    {
     "name": "stderr",
     "output_type": "stream",
     "text": [
      "                                                                      \r"
     ]
    },
    {
     "name": "stdout",
     "output_type": "stream",
     "text": [
      "MoviePy - Done.\n",
      "Downloading audio: X You\n",
      "MoviePy - Writing audio in ../audios/X You.mp3\n"
     ]
    },
    {
     "name": "stderr",
     "output_type": "stream",
     "text": [
      "                                                                      \r"
     ]
    },
    {
     "name": "stdout",
     "output_type": "stream",
     "text": [
      "MoviePy - Done.\n",
      "Downloading audio: Avicii vs Lenny Kravitz - Superlove\n",
      "MoviePy - Writing audio in ../audios/Avicii vs Lenny Kravitz - Superlove.mp3\n"
     ]
    },
    {
     "name": "stderr",
     "output_type": "stream",
     "text": [
      "                                                                      \r"
     ]
    },
    {
     "name": "stdout",
     "output_type": "stream",
     "text": [
      "MoviePy - Done.\n",
      "Downloading audio: Eric Turner vs Avicii - Dancing in My Head (Tom Hangs Remix)\n",
      "MoviePy - Writing audio in ../audios/Eric Turner vs Avicii - Dancing in My Head (Tom Hangs Remix).mp3\n"
     ]
    },
    {
     "name": "stderr",
     "output_type": "stream",
     "text": [
      "                                                                      \r"
     ]
    },
    {
     "name": "stdout",
     "output_type": "stream",
     "text": [
      "MoviePy - Done.\n",
      "Downloading audio: Feeling Good\n",
      "MoviePy - Writing audio in ../audios/Feeling Good.mp3\n"
     ]
    },
    {
     "name": "stderr",
     "output_type": "stream",
     "text": [
      "                                                                      \r"
     ]
    },
    {
     "name": "stdout",
     "output_type": "stream",
     "text": [
      "MoviePy - Done.\n",
      "Downloading audio: Re-Fuge & CJ Stone - Night N Day (Avicii & Alesso - Skanska)(Original Mix 2012)[R.I.P 1989-∞]\n",
      "MoviePy - Writing audio in ../audios/Re-Fuge & CJ Stone - Night N Day (Avicii & Alesso - Skanska)(Original Mix 2012)[R.I.P 1989-∞].mp3\n"
     ]
    },
    {
     "name": "stderr",
     "output_type": "stream",
     "text": [
      "                                                                      \r"
     ]
    },
    {
     "name": "stdout",
     "output_type": "stream",
     "text": [
      "MoviePy - Done.\n",
      "Downloading audio: David Larkie - Niva (Avicii & Alesso - Niva)(Original Mix 2012)[R.I.P 1989-∞]\n",
      "MoviePy - Writing audio in ../audios/David Larkie - Niva (Avicii & Alesso - Niva)(Original Mix 2012)[R.I.P 1989-∞].mp3\n"
     ]
    },
    {
     "name": "stderr",
     "output_type": "stream",
     "text": [
      "                                                                      \r"
     ]
    },
    {
     "name": "stdout",
     "output_type": "stream",
     "text": [
      "MoviePy - Done.\n",
      "Downloading audio: Avicii - Boom (Original Remix 2012)[R.I.P 1989-∞]\n",
      "MoviePy - Writing audio in ../audios/Avicii - Boom (Original Remix 2012)[R.I.P 1989-∞].mp3\n"
     ]
    },
    {
     "name": "stderr",
     "output_type": "stream",
     "text": [
      "                                                                      \r"
     ]
    },
    {
     "name": "stdout",
     "output_type": "stream",
     "text": [
      "MoviePy - Done.\n",
      "Downloading audio: LarsM - Spaceship (Avicii - Stars)[R.I.P 1989-∞]\n",
      "MoviePy - Writing audio in ../audios/LarsM - Spaceship (Avicii - Stars)[R.I.P 1989-∞].mp3\n"
     ]
    },
    {
     "name": "stderr",
     "output_type": "stream",
     "text": [
      "                                                                      \r"
     ]
    },
    {
     "name": "stdout",
     "output_type": "stream",
     "text": [
      "MoviePy - Done.\n",
      "Downloading audio: True Believer\n",
      "MoviePy - Writing audio in ../audios/True Believer.mp3\n"
     ]
    },
    {
     "name": "stderr",
     "output_type": "stream",
     "text": [
      "                                                                      \r"
     ]
    },
    {
     "name": "stdout",
     "output_type": "stream",
     "text": [
      "MoviePy - Done.\n",
      "Downloading audio: LarsM & Pankowski - Destination (ft. Michael Zhonga) [Official Music Video]\n",
      "MoviePy - Writing audio in ../audios/LarsM & Pankowski - Destination (ft. Michael Zhonga) [Official Music Video].mp3\n"
     ]
    },
    {
     "name": "stderr",
     "output_type": "stream",
     "text": [
      "                                                                      "
     ]
    },
    {
     "name": "stdout",
     "output_type": "stream",
     "text": [
      "MoviePy - Done.\n"
     ]
    },
    {
     "name": "stderr",
     "output_type": "stream",
     "text": [
      "\r"
     ]
    }
   ],
   "source": [
    "download_audio_from_playlist(playlist_url, output_dir)"
   ]
  }
 ],
 "metadata": {
  "kernelspec": {
   "display_name": "Python 3",
   "language": "python",
   "name": "python3"
  },
  "language_info": {
   "codemirror_mode": {
    "name": "ipython",
    "version": 3
   },
   "file_extension": ".py",
   "mimetype": "text/x-python",
   "name": "python",
   "nbconvert_exporter": "python",
   "pygments_lexer": "ipython3",
   "version": "3.10.6"
  }
 },
 "nbformat": 4,
 "nbformat_minor": 2
}
