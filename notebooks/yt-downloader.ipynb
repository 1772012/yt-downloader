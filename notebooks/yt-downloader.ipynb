{
 "cells": [
  {
   "cell_type": "code",
   "execution_count": 2,
   "metadata": {},
   "outputs": [],
   "source": [
    "from pytube import YouTube\n",
    "import os\n",
    "import moviepy.editor as mp"
   ]
  },
  {
   "cell_type": "code",
   "execution_count": 3,
   "metadata": {},
   "outputs": [],
   "source": [
    "def download_video(url):\n",
    "    yt = YouTube(url)\n",
    "    video = yt.streams.filter(file_extension=\"mp4\").get_highest_resolution()\n",
    "    print(f\"Downloading video: {yt.title}\")\n",
    "    video.download(output_path=\"../videos\")  # Output path specified here"
   ]
  },
  {
   "cell_type": "code",
   "execution_count": 4,
   "metadata": {},
   "outputs": [],
   "source": [
    "def download_audio(url, audio_format):\n",
    "    yt = YouTube(url)\n",
    "    audio = yt.streams.filter(only_audio=True).first()\n",
    "    print(f\"Downloading audio: {yt.title}\")\n",
    "    audio.download(output_path=\"../audios\", filename=\"temp_audio\")  # Output path specified here\n",
    "\n",
    "    if audio_format == \"mp3\":\n",
    "        clip = mp.AudioFileClip(\"../audios/temp_audio\")\n",
    "        clip.write_audiofile(f\"../audios/{yt.title}.mp3\")\n",
    "    elif audio_format == \"wav\":\n",
    "        clip = mp.AudioFileClip(\"../audios/temp_audio\")\n",
    "        clip.write_audiofile(f\"../audios/{yt.title}.wav\")\n",
    "\n",
    "    os.remove(f\"../audios/temp_audio\")"
   ]
  },
  {
   "cell_type": "code",
   "execution_count": 5,
   "metadata": {},
   "outputs": [
    {
     "name": "stdout",
     "output_type": "stream",
     "text": [
      "Downloading audio: Miami 82 (Kygo Remix)\n",
      "MoviePy - Writing audio in ../audios/Miami 82 (Kygo Remix).mp3\n"
     ]
    },
    {
     "name": "stderr",
     "output_type": "stream",
     "text": [
      "                                                                      "
     ]
    },
    {
     "name": "stdout",
     "output_type": "stream",
     "text": [
      "MoviePy - Done.\n"
     ]
    },
    {
     "name": "stderr",
     "output_type": "stream",
     "text": [
      "\r"
     ]
    }
   ],
   "source": [
    "url = input(\"Enter the YouTube video URL: \")\n",
    "choice = input(\"Do you want to download video or audio? (video/audio): \")\n",
    "\n",
    "if choice == \"video\":\n",
    "    download_video(url)\n",
    "elif choice == \"audio\":\n",
    "    audio_format = input(\"Choose audio format (mp3/wav): \")\n",
    "    download_audio(url, audio_format)"
   ]
  }
 ],
 "metadata": {
  "kernelspec": {
   "display_name": "Python 3",
   "language": "python",
   "name": "python3"
  },
  "language_info": {
   "codemirror_mode": {
    "name": "ipython",
    "version": 3
   },
   "file_extension": ".py",
   "mimetype": "text/x-python",
   "name": "python",
   "nbconvert_exporter": "python",
   "pygments_lexer": "ipython3",
   "version": "3.10.6"
  }
 },
 "nbformat": 4,
 "nbformat_minor": 2
}
