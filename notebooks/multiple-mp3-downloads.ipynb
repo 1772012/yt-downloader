{
 "cells": [
  {
   "cell_type": "markdown",
   "metadata": {},
   "source": [
    "### Import all dependencies"
   ]
  },
  {
   "cell_type": "code",
   "execution_count": 5,
   "metadata": {},
   "outputs": [],
   "source": [
    "from pytube import YouTube\n",
    "import os\n",
    "import moviepy.editor as mp"
   ]
  },
  {
   "cell_type": "markdown",
   "metadata": {},
   "source": [
    "### Define functions"
   ]
  },
  {
   "cell_type": "code",
   "execution_count": 6,
   "metadata": {},
   "outputs": [],
   "source": [
    "def download_audio(url, output_dir):\n",
    "    yt = YouTube(url)\n",
    "    audio = yt.streams.filter(only_audio=True).first()\n",
    "    print(f\"Downloading audio: {yt.title}\")\n",
    "    audio.download(output_path=output_dir, filename=\"temp_audio\")\n",
    "    \n",
    "    clip = mp.AudioFileClip(output_dir + \"/temp_audio\")\n",
    "    clip.write_audiofile(output_dir + \"/\" + yt.title + \".mp3\")\n",
    "\n",
    "    os.remove(output_dir + \"/temp_audio\")"
   ]
  },
  {
   "cell_type": "markdown",
   "metadata": {},
   "source": [
    "### Set parameters"
   ]
  },
  {
   "cell_type": "code",
   "execution_count": 7,
   "metadata": {},
   "outputs": [],
   "source": [
    "# YouTube URLs\n",
    "urls = [\n",
    "    \"https://www.youtube.com/watch?v=nDopn_p2wk4\",\n",
    "    \"https://www.youtube.com/watch?v=9Sc-ir2UwGU\"\n",
    "]\n",
    "\n",
    "## Output folders\n",
    "output_dir = \"../audios\""
   ]
  },
  {
   "cell_type": "markdown",
   "metadata": {},
   "source": [
    "### Downloading audios"
   ]
  },
  {
   "cell_type": "code",
   "execution_count": 9,
   "metadata": {},
   "outputs": [
    {
     "name": "stdout",
     "output_type": "stream",
     "text": [
      "Downloading audio: Miami 82 (Kygo Remix)\n",
      "MoviePy - Writing audio in ../audios/Miami 82 (Kygo Remix).mp3\n"
     ]
    },
    {
     "name": "stderr",
     "output_type": "stream",
     "text": [
      "                                                                      \r"
     ]
    },
    {
     "name": "stdout",
     "output_type": "stream",
     "text": [
      "MoviePy - Done.\n",
      "Downloading audio: Firestone ft. Conrad Sewell (Official Video)\n",
      "MoviePy - Writing audio in ../audios/Firestone ft. Conrad Sewell (Official Video).mp3\n"
     ]
    },
    {
     "name": "stderr",
     "output_type": "stream",
     "text": [
      "                                                                      "
     ]
    },
    {
     "name": "stdout",
     "output_type": "stream",
     "text": [
      "MoviePy - Done.\n"
     ]
    },
    {
     "name": "stderr",
     "output_type": "stream",
     "text": [
      "\r"
     ]
    }
   ],
   "source": [
    "for url in urls:\n",
    "    download_audio(url, output_dir)"
   ]
  }
 ],
 "metadata": {
  "kernelspec": {
   "display_name": "Python 3",
   "language": "python",
   "name": "python3"
  },
  "language_info": {
   "codemirror_mode": {
    "name": "ipython",
    "version": 3
   },
   "file_extension": ".py",
   "mimetype": "text/x-python",
   "name": "python",
   "nbconvert_exporter": "python",
   "pygments_lexer": "ipython3",
   "version": "3.10.6"
  }
 },
 "nbformat": 4,
 "nbformat_minor": 2
}
